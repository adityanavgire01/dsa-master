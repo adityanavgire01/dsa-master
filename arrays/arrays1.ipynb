{
 "cells": [
  {
   "cell_type": "code",
   "execution_count": null,
   "metadata": {},
   "outputs": [],
   "source": [
    "# date - 01 November 2024\n",
    "\n",
    "# time complexity\n",
    "# to look for an index in an entire array - O(1)\n",
    "# TC - O(n)\n",
    "# traversal - O(n)\n",
    "# insert at an index - O(n)\n",
    "# deleting element at index - O(n)\n",
    "\n",
    "# resume - https://youtu.be/gDqQf4Ekr2A?si=0MgWzh8cJQKZiRZp&t=788\n"
   ]
  },
  {
   "cell_type": "code",
   "execution_count": 23,
   "metadata": {},
   "outputs": [
    {
     "name": "stdout",
     "output_type": "stream",
     "text": [
      "2268590715632\n"
     ]
    }
   ],
   "source": [
    "stock_prices = [100, 220, 335, 420, 985]\n",
    "sec_ele_id = id(stock_prices[2])\n",
    "print(sec_ele_id)"
   ]
  },
  {
   "cell_type": "markdown",
   "metadata": {},
   "source": [
    "Exercise: Array DataStructure\n",
    "Let us say your expense for every month are listed below,\n",
    "January - 2200\n",
    "February - 2350\n",
    "March - 2600\n",
    "April - 2130\n",
    "May - 2190\n",
    "Create a list to store these monthly expenses and using that find out,\n",
    "\n",
    "1. In Feb, how many dollars you spent extra compare to January?\n",
    "2. Find out your total expense in first quarter (first three months) of the year.\n",
    "3. Find out if you spent exactly 2000 dollars in any month\n",
    "4. June month just finished and your expense is 1980 dollar. Add this item to our monthly expense list\n",
    "5. You returned an item that you bought in a month of April and\n",
    "got a refund of 200$. Make a correction to your monthly expense list\n",
    "based on this"
   ]
  },
  {
   "cell_type": "code",
   "execution_count": 4,
   "metadata": {},
   "outputs": [
    {
     "name": "stdout",
     "output_type": "stream",
     "text": [
      "1. ->  150\n",
      "2. ->  7150\n",
      "3. ->  False\n",
      "4. ->  [2200, 2350, 2600, 2130, 2190, 1980]\n",
      "5. ->  [2200, 2350, 2600, 1930, 2190, 1980]\n"
     ]
    }
   ],
   "source": [
    "expense = [2200, 2350, 2600, 2130, 2190]\n",
    "\n",
    "# 1\n",
    "print(\"1. -> \", expense[1] - expense[0])\n",
    "\n",
    "# 2\n",
    "quarter = 0\n",
    "for i in range(3):\n",
    "    quarter += expense[i]\n",
    "\n",
    "print(\"2. -> \", quarter)\n",
    "\n",
    "# 3\n",
    "flag = False\n",
    "for i in expense:\n",
    "    if i == 2000:\n",
    "        flag = True\n",
    "\n",
    "print(\"3. -> \", flag)\n",
    "\n",
    "# 4\n",
    "expense.append(1980)\n",
    "print(\"4. -> \", expense)\n",
    "\n",
    "# 5\n",
    "expense[3] = expense[3] - 200\n",
    "print(\"5. -> \", expense)\n",
    "\n"
   ]
  },
  {
   "cell_type": "markdown",
   "metadata": {},
   "source": [
    "You have a list of your favourite marvel super heros.\n",
    "heros=['spider man','thor','hulk','iron man','captain america']\n",
    "Using this find out,\n",
    "\n",
    "1. Length of the list\n",
    "2. Add 'black panther' at the end of this list\n",
    "3. You realize that you need to add 'black panther' after 'hulk',\n",
    "   so remove it from the list first and then add it after 'hulk'\n",
    "4. Now you don't like thor and hulk because they get angry easily :)\n",
    "   So you want to remove thor and hulk from list and replace them with doctor strange (because he is cool).\n",
    "   Do that with one line of code.\n",
    "5. Sort the heros list in alphabetical order (Hint. Use dir() functions to list down all functions available in list)\n"
   ]
  },
  {
   "cell_type": "code",
   "execution_count": 23,
   "metadata": {},
   "outputs": [
    {
     "name": "stdout",
     "output_type": "stream",
     "text": [
      "1. -> 5\n",
      "2. -> ['spider man', 'thor', 'hulk', 'iron man', 'captain america', 'black panther']\n",
      "3. -> ['spider man', 'thor', 'hulk', 'black panther', 'iron man', 'captain america']\n",
      "4. -> ['spider man', 'doctor strange', 'black panther', 'iron man', 'captain america']\n",
      "5. -> ['black panther', 'captain america', 'doctor strange', 'iron man', 'spider man']\n"
     ]
    }
   ],
   "source": [
    "heros = ['spider man', 'thor', 'hulk', 'iron man', 'captain america']\n",
    "\n",
    "# 1\n",
    "print(\"1. ->\", len(heros))\n",
    "\n",
    "# 2\n",
    "heros.append('black panther')\n",
    "print('2. ->', heros)\n",
    "\n",
    "# 3\n",
    "spider_index = '\\n'\n",
    "heros.pop(len(heros)-1)\n",
    "for i in range(len(heros)):\n",
    "    if heros[i] == 'hulk':\n",
    "        heros.insert(i+1,'black panther')\n",
    "\n",
    "print('3. ->',heros)\n",
    "\n",
    "# 4.\n",
    "heros[1:3] = ['doctor strange']\n",
    "print('4. ->', heros)\n",
    "\n",
    "# 5.\n",
    "heros.sort()\n",
    "print('5. ->',heros)"
   ]
  },
  {
   "cell_type": "markdown",
   "metadata": {},
   "source": [
    "3. Create a list of all odd numbers between 1 and a max number. Max number is something you need to take from a user using input() function\n"
   ]
  },
  {
   "cell_type": "code",
   "execution_count": 4,
   "metadata": {},
   "outputs": [
    {
     "name": "stdout",
     "output_type": "stream",
     "text": [
      "Odd list :  [1, 3, 5, 7, 9, 11, 13, 15]\n"
     ]
    }
   ],
   "source": [
    "l1 = int(input(\"enter max num : \"))\n",
    "\n",
    "odd_list = []\n",
    "if l1 <= 1:\n",
    "    print(\"max num must be atleast 3  : \", l1)\n",
    "else:\n",
    "    for i in range(l1):\n",
    "        if i%2 != 0:\n",
    "            odd_list.append(i)\n",
    "\n",
    "print(\"Odd list : \", odd_list)\n",
    "\n"
   ]
  },
  {
   "cell_type": "code",
   "execution_count": null,
   "metadata": {},
   "outputs": [],
   "source": []
  },
  {
   "cell_type": "code",
   "execution_count": null,
   "metadata": {},
   "outputs": [],
   "source": []
  },
  {
   "cell_type": "code",
   "execution_count": null,
   "metadata": {},
   "outputs": [],
   "source": []
  }
 ],
 "metadata": {
  "kernelspec": {
   "display_name": "Python 3",
   "language": "python",
   "name": "python3"
  },
  "language_info": {
   "codemirror_mode": {
    "name": "ipython",
    "version": 3
   },
   "file_extension": ".py",
   "mimetype": "text/x-python",
   "name": "python",
   "nbconvert_exporter": "python",
   "pygments_lexer": "ipython3",
   "version": "3.12.0"
  }
 },
 "nbformat": 4,
 "nbformat_minor": 2
}
