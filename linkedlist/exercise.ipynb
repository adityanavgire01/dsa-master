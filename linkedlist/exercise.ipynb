{
 "cells": [
  {
   "cell_type": "markdown",
   "metadata": {},
   "source": [
    "Exercise: Linked List\n",
    "1. In LinkedList class that we implemented in our tutorial add following two methods,\n",
    "- def insert_after_value(self, data_after, data_to_insert):\n",
    "    # Search for first occurance of data_after value in linked list\n",
    "    # Now insert data_to_insert after data_after node\n",
    "\n",
    "- def remove_by_value(self, data):\n",
    "    # Remove first node that contains data\n",
    " - Now make following calls,\n",
    "\n",
    "    ll = LinkedList()\n",
    "    ll.insert_values([\"banana\",\"mango\",\"grapes\",\"orange\"])\n",
    "    ll.print()\n",
    "    ll.insert_after_value(\"mango\",\"apple\") # insert apple after mango\n",
    "    ll.print()\n",
    "    ll.remove_by_value(\"orange\") # remove orange from linked list\n",
    "    ll.print()\n",
    "    ll.remove_by_value(\"figs\")\n",
    "    ll.print()\n",
    "    ll.remove_by_value(\"banana\")\n",
    "    ll.remove_by_value(\"mango\")\n",
    "    ll.remove_by_value(\"apple\")\n",
    "    ll.remove_by_value(\"grapes\")\n",
    "    ll.print()"
   ]
  },
  {
   "cell_type": "code",
   "execution_count": null,
   "metadata": {},
   "outputs": [],
   "source": [
    "# Solution 1"
   ]
  },
  {
   "cell_type": "markdown",
   "metadata": {},
   "source": [
    "2. Implement doubly linked list. The only difference with regular linked list is that double linked has prev node reference as well. That way you can iterate in forward and backward direction. Your node class will look this this,\n",
    "\n",
    "class Node:\n",
    "    def __init__(self, data=None, next=None, prev=None):\n",
    "        self.data = data\n",
    "        self.next = next\n",
    "        self.prev = prev\n",
    "        \n",
    "Add following new methods,\n",
    "\n",
    "def print_forward(self):\n",
    "    # This method prints list in forward direction. Use node.next\n",
    "\n",
    "def print_backward(self):\n",
    "    # Print linked list in reverse direction. Use node.prev for this.\n",
    "Implement all other methods in regular linked list class and make necessary changes for doubly linked list (you need to populate node.prev in all those methods)"
   ]
  },
  {
   "cell_type": "code",
   "execution_count": null,
   "metadata": {},
   "outputs": [],
   "source": [
    "# Solution 2"
   ]
  }
 ],
 "metadata": {
  "language_info": {
   "name": "python"
  }
 },
 "nbformat": 4,
 "nbformat_minor": 2
}
