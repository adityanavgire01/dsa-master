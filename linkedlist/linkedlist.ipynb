{
 "cells": [
  {
   "cell_type": "markdown",
   "metadata": {},
   "source": [
    " In Linked List - Time complexity \n",
    " - Insert/Delete element at beginning = O(1)\n",
    " - Ins/Del element at end  = O(n)\n",
    " - Traversal = O(n)\n",
    " - Accessing element by value = O(n)\n",
    "\n",
    " Advantages over arrays\n",
    "  - now need to prealocate the space\n",
    "  - insertion is easier\n",
    "\n",
    "  TYPES\n",
    "  1. Linked list\n",
    "  2. Doubly linked list \n",
    "\n",
    "  Concepts: \n",
    "  - The head of the LL is a first node in list - without head we would lose access to the entire list\n",
    "  - Tail is a the last node in list which points to None.\n",
    "  - Inserting at beginning : the new node point to current head (previous first node) and then we update the head to new node, as it is now the first node - O(1)\n",
    "\n",
    "  - Linked List (and its variations) can be used as the underlying data structure to implement List, Stack, Queue, and Deque ADTs\n",
    "  \n"
   ]
  },
  {
   "cell_type": "code",
   "execution_count": 11,
   "metadata": {},
   "outputs": [
    {
     "name": "stdout",
     "output_type": "stream",
     "text": [
      "22-->10-->90-->100-->\n",
      "apple-->banana-->grapes-->melon-->\n",
      "length of LL :  4\n"
     ]
    }
   ],
   "source": [
    "class Node:\n",
    "    def __init__(self, data=None, next=None):\n",
    "        self.data = data\n",
    "        self.next = next\n",
    "\n",
    "class LinkedList:\n",
    "    def __init__(self):\n",
    "        self.head = None\n",
    "    \n",
    "    def insert_at_beginning(self, data):\n",
    "        node = Node(data, self.head)\n",
    "        self.head = node\n",
    "\n",
    "    def insert_at_end(self, data):\n",
    "        if self.head is None:\n",
    "            self.head = Node(data, None)\n",
    "            return\n",
    "        \n",
    "        itr = self.head\n",
    "        while itr.next:\n",
    "            itr = itr.next\n",
    "\n",
    "        itr.next = Node(data, None)\n",
    "\n",
    "    def insert_values(self, data_list):\n",
    "        self.head = None\n",
    "        for data in data_list:\n",
    "            self.insert_at_end(data)\n",
    "\n",
    "    def print(self):\n",
    "        if self.head is None:\n",
    "            print(\"Linked list is empty\")\n",
    "            return\n",
    "        \n",
    "        itr = self.head\n",
    "        llstr = ''\n",
    "\n",
    "        while itr:\n",
    "            llstr += str(itr.data) + '-->'\n",
    "            itr = itr.next\n",
    "        \n",
    "        print(llstr)\n",
    "\n",
    "    \n",
    "    def get_lenght(self):\n",
    "        count = 0\n",
    "        itr = self.head\n",
    "        while itr:\n",
    "            count += 1\n",
    "            itr = itr.next\n",
    "\n",
    "        return count\n",
    "\n",
    "if __name__ == '__main__':\n",
    "    l1 = LinkedList()\n",
    "    l1.insert_at_beginning(10)\n",
    "    l1.insert_at_beginning(22)\n",
    "    l1.insert_at_end(90)    \n",
    "    l1.insert_at_end(100) \n",
    "\n",
    "    l2 = LinkedList()\n",
    "    l2.insert_values(['apple', 'banana','grapes','melon'])   \n",
    "\n",
    "    l1.print()\n",
    "    l2.print()\n",
    "    print(\"length of LL : \", l2.get_lenght())"
   ]
  },
  {
   "cell_type": "code",
   "execution_count": 4,
   "metadata": {},
   "outputs": [
    {
     "name": "stdout",
     "output_type": "stream",
     "text": [
      "50-->100-->150-->200-->100-->\n"
     ]
    }
   ],
   "source": [
    "class Node:\n",
    "    def __init__(self,data=None, next=None):\n",
    "        self.data = data\n",
    "        self.next = next\n",
    "\n",
    "class LinkedList:\n",
    "    def __init__(self):\n",
    "        self.head = None\n",
    "\n",
    "    def insert_at_beginning(self, data):\n",
    "        node = Node(data, self.head)\n",
    "        self.head = node\n",
    "\n",
    "    def print(self):\n",
    "        if self.head is None:\n",
    "            print(\"Linked list is empty!\")\n",
    "            return\n",
    "        \n",
    "        itr = self.head\n",
    "        llstr = ''\n",
    "\n",
    "        while itr:\n",
    "            llstr += str(itr.data) + '-->'\n",
    "            itr = itr.next\n",
    "\n",
    "        print(llstr)\n",
    "\n",
    "\n",
    "if __name__ == '__main__':\n",
    "    l2 = LinkedList()\n",
    "    l2.insert_at_beginning(100)\n",
    "    l2.insert_at_beginning(200)\n",
    "    l2.insert_at_beginning(150)\n",
    "    l2.insert_at_beginning(100)\n",
    "    l2.insert_at_beginning(50)\n",
    "    l2.print()\n",
    "\n"
   ]
  }
 ],
 "metadata": {
  "kernelspec": {
   "display_name": "Python 3",
   "language": "python",
   "name": "python3"
  },
  "language_info": {
   "codemirror_mode": {
    "name": "ipython",
    "version": 3
   },
   "file_extension": ".py",
   "mimetype": "text/x-python",
   "name": "python",
   "nbconvert_exporter": "python",
   "pygments_lexer": "ipython3",
   "version": "3.12.0"
  }
 },
 "nbformat": 4,
 "nbformat_minor": 2
}
