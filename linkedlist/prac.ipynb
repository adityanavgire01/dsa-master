{
 "cells": [
  {
   "cell_type": "code",
   "execution_count": null,
   "metadata": {},
   "outputs": [],
   "source": []
  },
  {
   "cell_type": "code",
   "execution_count": 4,
   "metadata": {},
   "outputs": [
    {
     "ename": "AttributeError",
     "evalue": "'LinkedList' object has no attribute 'next'",
     "output_type": "error",
     "traceback": [
      "\u001b[1;31m---------------------------------------------------------------------------\u001b[0m",
      "\u001b[1;31mAttributeError\u001b[0m                            Traceback (most recent call last)",
      "Cell \u001b[1;32mIn[4], line 36\u001b[0m\n\u001b[0;32m     34\u001b[0m l1\u001b[38;5;241m.\u001b[39minsert_at_beginning(\u001b[38;5;241m10\u001b[39m)\n\u001b[0;32m     35\u001b[0m l1\u001b[38;5;241m.\u001b[39minsert_at_beginning(\u001b[38;5;241m20\u001b[39m)\n\u001b[1;32m---> 36\u001b[0m \u001b[43ml1\u001b[49m\u001b[38;5;241;43m.\u001b[39;49m\u001b[43mprint\u001b[49m\u001b[43m(\u001b[49m\u001b[43m)\u001b[49m\n",
      "Cell \u001b[1;32mIn[4], line 27\u001b[0m, in \u001b[0;36mLinkedList.print\u001b[1;34m(self)\u001b[0m\n\u001b[0;32m     25\u001b[0m \u001b[38;5;28;01mwhile\u001b[39;00m itr:\n\u001b[0;32m     26\u001b[0m     llstr \u001b[38;5;241m+\u001b[39m\u001b[38;5;241m=\u001b[39m \u001b[38;5;28mstr\u001b[39m(itr\u001b[38;5;241m.\u001b[39mdata) \u001b[38;5;241m+\u001b[39m \u001b[38;5;124m'\u001b[39m\u001b[38;5;124m-->\u001b[39m\u001b[38;5;124m'\u001b[39m\n\u001b[1;32m---> 27\u001b[0m     itr \u001b[38;5;241m=\u001b[39m \u001b[38;5;28;43mself\u001b[39;49m\u001b[38;5;241;43m.\u001b[39;49m\u001b[43mnext\u001b[49m\n\u001b[0;32m     29\u001b[0m \u001b[38;5;28mprint\u001b[39m(llstr)\n",
      "\u001b[1;31mAttributeError\u001b[0m: 'LinkedList' object has no attribute 'next'"
     ]
    }
   ],
   "source": [
    "# Linked list - insert a t negining and printing it\n",
    "\n",
    "class Node:\n",
    "    def __init__(self,data=None, next=None):\n",
    "        self.data = data\n",
    "        self.next = next\n",
    "\n",
    "class LinkedList:\n",
    "    def __init__(self):\n",
    "        self.head = None\n",
    "\n",
    "    def insert_at_beginning(self, data):\n",
    "        node = Node(data,self.head)\n",
    "        self.head = node\n",
    "\n",
    "\n",
    "    def print(self):\n",
    "        if self.head is None:\n",
    "            print(\"No linked list found!\")\n",
    "            return\n",
    "\n",
    "        itr = self.head\n",
    "        llstr = ''\n",
    "\n",
    "        while itr:\n",
    "            llstr += str(itr.data) + '-->'\n",
    "            itr = self.next\n",
    "\n",
    "        print(llstr)\n",
    "\n",
    "if __name__ == '__main__':\n",
    "\n",
    "    l1 = LinkedList()\n",
    "    l1.insert_at_beginning(10)\n",
    "    l1.insert_at_beginning(20)\n",
    "    l1.print()\n",
    "\n",
    "        "
   ]
  }
 ],
 "metadata": {
  "kernelspec": {
   "display_name": "Python 3",
   "language": "python",
   "name": "python3"
  },
  "language_info": {
   "codemirror_mode": {
    "name": "ipython",
    "version": 3
   },
   "file_extension": ".py",
   "mimetype": "text/x-python",
   "name": "python",
   "nbconvert_exporter": "python",
   "pygments_lexer": "ipython3",
   "version": "3.12.0"
  }
 },
 "nbformat": 4,
 "nbformat_minor": 2
}
